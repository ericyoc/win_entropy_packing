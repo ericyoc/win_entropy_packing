{
  "nbformat": 4,
  "nbformat_minor": 0,
  "metadata": {
    "colab": {
      "provenance": [],
      "authorship_tag": "ABX9TyMVGUbeUSMoFJWs+vHe3uHa",
      "include_colab_link": true
    },
    "kernelspec": {
      "name": "python3",
      "display_name": "Python 3"
    },
    "language_info": {
      "name": "python"
    }
  },
  "cells": [
    {
      "cell_type": "markdown",
      "metadata": {
        "id": "view-in-github",
        "colab_type": "text"
      },
      "source": [
        "<a href=\"https://colab.research.google.com/github/ericyoc/win_entropy_packing/blob/main/calc_win_entropy_packing.ipynb\" target=\"_parent\"><img src=\"https://colab.research.google.com/assets/colab-badge.svg\" alt=\"Open In Colab\"/></a>"
      ]
    },
    {
      "cell_type": "code",
      "execution_count": 2,
      "metadata": {
        "id": "96_vRFkBEOZB"
      },
      "outputs": [],
      "source": [
        "#!pip install pefile"
      ]
    },
    {
      "cell_type": "code",
      "source": [
        "import math\n",
        "import pefile\n",
        "import subprocess"
      ],
      "metadata": {
        "id": "OgWpPP2aEfJt"
      },
      "execution_count": 3,
      "outputs": []
    },
    {
      "cell_type": "code",
      "source": [
        "#!apt-get install upx-ucl"
      ],
      "metadata": {
        "id": "zg4peMw6Hprg"
      },
      "execution_count": 5,
      "outputs": []
    },
    {
      "cell_type": "code",
      "source": [
        "def calculate_entropy(data):\n",
        "    byte_counts = [0] * 256\n",
        "    for byte in data:\n",
        "        byte_counts[byte] += 1\n",
        "\n",
        "    entropy = 0\n",
        "    for count in byte_counts:\n",
        "        if count > 0:\n",
        "            probability = float(count) / len(data)\n",
        "            entropy -= probability * math.log2(probability)\n",
        "\n",
        "    return entropy"
      ],
      "metadata": {
        "id": "2qpIJ-VXEhey"
      },
      "execution_count": 6,
      "outputs": []
    },
    {
      "cell_type": "code",
      "source": [
        "def get_entropy_level(entropy):\n",
        "    if entropy > 6.5:\n",
        "        return \"High\"\n",
        "    elif entropy > 5.0:\n",
        "        return \"Medium\"\n",
        "    else:\n",
        "        return \"Low\""
      ],
      "metadata": {
        "id": "QmfEiCr5GD-s"
      },
      "execution_count": 7,
      "outputs": []
    },
    {
      "cell_type": "code",
      "source": [
        "def is_packed(pe):\n",
        "    # Check for common packer signatures\n",
        "    packers = [\"UPX\", \"ASPack\", \"PECompact\", \"Themida\", \"VMProtect\"]\n",
        "    for packer in packers:\n",
        "        if packer.encode() in pe.get_data():\n",
        "            return True\n",
        "\n",
        "    # Check for high entropy in sections\n",
        "    for section in pe.sections:\n",
        "        entropy = calculate_entropy(section.get_data())\n",
        "        if entropy > 6.5:\n",
        "            return True\n",
        "\n",
        "    return False\n"
      ],
      "metadata": {
        "id": "62BlWRccGGKo"
      },
      "execution_count": 8,
      "outputs": []
    },
    {
      "cell_type": "code",
      "source": [
        "def pack_with_upx(file_path):\n",
        "    try:\n",
        "        # Pack the file using UPX-UCL\n",
        "        subprocess.run([\"upx\", \"--best\", file_path], check=True)\n",
        "        print(\"File packed successfully with UPX-UCL.\")\n",
        "    except subprocess.CalledProcessError:\n",
        "        print(\"Failed to pack the file with UPX-UCL.\")\n",
        "    except FileNotFoundError:\n",
        "        print(\"UPX-UCL executable not found. Make sure UPX-UCL is installed and in the system PATH.\")"
      ],
      "metadata": {
        "id": "IcxhlRKhGtk0"
      },
      "execution_count": 9,
      "outputs": []
    },
    {
      "cell_type": "code",
      "source": [
        "def analyze_file(file_path):\n",
        "    try:\n",
        "        pe = pefile.PE(file_path)\n",
        "\n",
        "        if pe.FILE_HEADER.Machine == 0x14c:\n",
        "            arch = \"32-bit\"\n",
        "        elif pe.FILE_HEADER.Machine == 0x8664:\n",
        "            arch = \"64-bit\"\n",
        "        else:\n",
        "            arch = \"Unknown\"\n",
        "\n",
        "        data = open(file_path, \"rb\").read()\n",
        "        entropy = calculate_entropy(data)\n",
        "        entropy_level = get_entropy_level(entropy)\n",
        "        packed = is_packed(pe)\n",
        "\n",
        "        print(f\"File: {file_path}\")\n",
        "        print(f\"Architecture: {arch}\")\n",
        "        print(f\"Entropy: {entropy:.4f}\")\n",
        "        print(f\"Entropy Level: {entropy_level}\")\n",
        "        print(f\"Packed: {'Yes' if packed else 'No'}\")\n",
        "\n",
        "        print(\"Section Names:\")\n",
        "        for section in pe.sections:\n",
        "            section_name = section.Name.decode(errors='ignore').strip('\\x00')\n",
        "            print(f\"- {section_name}\")\n",
        "\n",
        "        # Explanation of entropy levels and packed files\n",
        "        print(\"\\nExplanation:\")\n",
        "        if entropy_level == \"Low\":\n",
        "            print(\"Low entropy indicates that the file has a more predictable and less random distribution of bytes.\")\n",
        "            print(\"This is common for executables that contain plain text, code, or data without much obfuscation.\")\n",
        "        elif entropy_level == \"Medium\":\n",
        "            print(\"Medium entropy suggests that the file has a moderate level of randomness in its byte distribution.\")\n",
        "            print(\"This can be observed in executables with a mix of plain text, code, and compressed or encrypted data.\")\n",
        "        else:  # High entropy\n",
        "            print(\"High entropy indicates a highly random and unpredictable distribution of bytes in the file.\")\n",
        "            print(\"This is often associated with encrypted, compressed, or obfuscated data, which is common in packed executables.\")\n",
        "\n",
        "        if packed:\n",
        "            print(\"\\nThe file is detected as packed, but the entropy may be lower compared to the original file.\")\n",
        "            print(\"This is because packers like UPX-UCL compress the executable, resulting in a more uniform byte distribution.\")\n",
        "            print(\"The compressed data, although appearing more structured, can still have a high entropy due to the packing process.\")\n",
        "\n",
        "    except pefile.PEFormatError:\n",
        "        print(\"Invalid PE file format.\")\n",
        "    except FileNotFoundError:\n",
        "        print(\"File not found.\")\n",
        "    except Exception as e:\n",
        "        print(f\"An error occurred: {str(e)}\")"
      ],
      "metadata": {
        "id": "IvyVWJD5GwtJ"
      },
      "execution_count": 10,
      "outputs": []
    },
    {
      "cell_type": "code",
      "source": [
        "def main():\n",
        "    file_path = \"/content/calc.exe\"\n",
        "\n",
        "    print(\"Original File:\")\n",
        "    analyze_file(file_path)\n",
        "\n",
        "    print(\"\\nPacking the file with UPX-UCL...\")\n",
        "    pack_with_upx(file_path)\n",
        "\n",
        "    print(\"\\nPacked File:\")\n",
        "    analyze_file(file_path)"
      ],
      "metadata": {
        "id": "U3N2oAhFGIe5"
      },
      "execution_count": 11,
      "outputs": []
    },
    {
      "cell_type": "code",
      "source": [
        "if __name__ == \"__main__\":\n",
        "    main()"
      ],
      "metadata": {
        "colab": {
          "base_uri": "https://localhost:8080/"
        },
        "id": "tIQMonx7GKV1",
        "outputId": "58304699-ae5e-44b4-fcb6-2bd705b8f64f"
      },
      "execution_count": 12,
      "outputs": [
        {
          "output_type": "stream",
          "name": "stdout",
          "text": [
            "Original File:\n",
            "File: /content/calc.exe\n",
            "Architecture: 64-bit\n",
            "Entropy: 2.9665\n",
            "Entropy Level: Low\n",
            "Packed: No\n",
            "Section Names:\n",
            "- .text\n",
            "- .rdata\n",
            "- .data\n",
            "- .pdata\n",
            "- .rsrc\n",
            "- .reloc\n",
            "\n",
            "Explanation:\n",
            "Low entropy indicates that the file has a more predictable and less random distribution of bytes.\n",
            "This is common for executables that contain plain text, code, or data without much obfuscation.\n",
            "\n",
            "Packing the file with UPX-UCL...\n",
            "File packed successfully with UPX-UCL.\n",
            "\n",
            "Packed File:\n",
            "File: /content/calc.exe\n",
            "Architecture: 64-bit\n",
            "Entropy: 4.3683\n",
            "Entropy Level: Low\n",
            "Packed: Yes\n",
            "Section Names:\n",
            "- UPX0\n",
            "- UPX1\n",
            "- .rsrc\n",
            "\n",
            "Explanation:\n",
            "Low entropy indicates that the file has a more predictable and less random distribution of bytes.\n",
            "This is common for executables that contain plain text, code, or data without much obfuscation.\n",
            "\n",
            "The file is detected as packed, but the entropy may be lower compared to the original file.\n",
            "This is because packers like UPX-UCL compress the executable, resulting in a more uniform byte distribution.\n",
            "The compressed data, although appearing more structured, can still have a high entropy due to the packing process.\n"
          ]
        }
      ]
    }
  ]
}